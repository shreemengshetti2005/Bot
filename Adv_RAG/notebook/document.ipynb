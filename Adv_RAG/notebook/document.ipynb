{
 "cells": [
  {
   "cell_type": "markdown",
   "id": "6df3518b",
   "metadata": {},
   "source": [
    "### Data Ingestion"
   ]
  },
  {
   "cell_type": "code",
   "execution_count": null,
   "id": "1e2dc3e1",
   "metadata": {},
   "outputs": [],
   "source": [
    "from langchain_core.documents import Document\n"
   ]
  },
  {
   "cell_type": "code",
   "execution_count": null,
   "id": "f25af996",
   "metadata": {},
   "outputs": [
    {
     "name": "stdout",
     "output_type": "stream",
     "text": [
      "[Document(metadata={'source': '../data/text_files/eg.txt'}, page_content='Hello, my name is Shree Mengshetti. I am applying for the AI Research Engineer Internship role. Please find my resume attached for your kind consideration.')]\n"
     ]
    }
   ],
   "source": [
    "# Single file load\n",
    "from langchain_community.document_loaders import TextLoader\n",
    "\n",
    "loader = TextLoader('../data/text_files/eg.txt', encoding='utf8')\n",
    "document= loader.load()\n",
    "print(document)"
   ]
  },
  {
   "cell_type": "code",
   "execution_count": null,
   "id": "43e2e610",
   "metadata": {},
   "outputs": [],
   "source": [
    "# Multiple file load\n",
    "from langchain_community.document_loaders import DirectoryLoader\n"
   ]
  }
 ],
 "metadata": {
  "kernelspec": {
   "display_name": "Python 3",
   "language": "python",
   "name": "python3"
  },
  "language_info": {
   "codemirror_mode": {
    "name": "ipython",
    "version": 3
   },
   "file_extension": ".py",
   "mimetype": "text/x-python",
   "name": "python",
   "nbconvert_exporter": "python",
   "pygments_lexer": "ipython3",
   "version": "3.13.7"
  }
 },
 "nbformat": 4,
 "nbformat_minor": 5
}
